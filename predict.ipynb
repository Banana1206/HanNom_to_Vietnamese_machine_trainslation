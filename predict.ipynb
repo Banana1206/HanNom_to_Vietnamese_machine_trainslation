{
 "cells": [
  {
   "cell_type": "code",
   "execution_count": 3,
   "metadata": {},
   "outputs": [],
   "source": [
    "import json\n",
    "import os\n",
    "import tensorflow as tf\n",
    "from argparse import ArgumentParser\n",
    "# from preprocessing import remove_punctuation\n",
    "# from metric import CustomSchedule\n",
    "from train import Seq2Seq\n",
    "from tensorflow.keras.preprocessing.sequence import pad_sequences\n",
    "from Encoder_Attention_decoder import Encode, Attention, Decoder\n",
    "from sklearn.model_selection import train_test_split\n",
    "import numpy as np"
   ]
  },
  {
   "cell_type": "code",
   "execution_count": null,
   "metadata": {},
   "outputs": [],
   "source": [
    "class predictionSentence(Seq2Seq):\n",
    "    def __init__(self, embedding_size=64, hidden_units=256, learning_rate=0.001, test_split_size=0.1, epochs=10, batch_size=128):\n",
    "        super().__init__(embedding_size, hidden_units, learning_rate, test_split_size, epochs, batch_size)\n",
    "        pass"
   ]
  },
  {
   "cell_type": "code",
   "execution_count": null,
   "metadata": {},
   "outputs": [],
   "source": []
  }
 ],
 "metadata": {
  "kernelspec": {
   "display_name": "Seq2Seq",
   "language": "python",
   "name": "python3"
  },
  "language_info": {
   "codemirror_mode": {
    "name": "ipython",
    "version": 3
   },
   "file_extension": ".py",
   "mimetype": "text/x-python",
   "name": "python",
   "nbconvert_exporter": "python",
   "pygments_lexer": "ipython3",
   "version": "3.7.11"
  },
  "orig_nbformat": 4,
  "vscode": {
   "interpreter": {
    "hash": "9bb4085df3d0e855489bbfd8fbbf310942c04af6f68564c9c5237a442f6d91b6"
   }
  }
 },
 "nbformat": 4,
 "nbformat_minor": 2
}
